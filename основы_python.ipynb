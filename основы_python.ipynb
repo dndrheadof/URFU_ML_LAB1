{
  "cells": [
    {
      "cell_type": "code",
      "execution_count": 194,
      "metadata": {},
      "outputs": [],
      "source": [
        "import unittest"
      ]
    },
    {
      "cell_type": "markdown",
      "metadata": {
        "id": "M-DGa20PaHnu"
      },
      "source": [
        "#Задача 1\n",
        "Написать функцию на вход которой подается строка, состоящая из латинских букв.\n",
        "Функция должна вернуть количество гласных букв (a, e, i, o, u) в этой строке. Написать тесты для кода"
      ]
    },
    {
      "cell_type": "code",
      "execution_count": 195,
      "metadata": {
        "id": "XvX8X_JJ6PCb"
      },
      "outputs": [
        {
          "name": "stderr",
          "output_type": "stream",
          "text": [
            "...........................\n",
            "----------------------------------------------------------------------\n",
            "Ran 27 tests in 0.019s\n",
            "\n",
            "OK\n"
          ]
        }
      ],
      "source": [
        "def count_vowels(string):\n",
        "    vowels = 'aeoiu'\n",
        "    count = 0\n",
        "    for char in string.lower():\n",
        "        if char in vowels:\n",
        "            count += 1\n",
        "    \n",
        "    return count\n",
        "\n",
        "class TestCountVowels(unittest.TestCase):\n",
        "    def test_empty_text(self):\n",
        "        self.assertEqual(count_vowels(\"\"), 0)\n",
        "\n",
        "    def test_all_vowels(self):\n",
        "        self.assertEqual(count_vowels(\"uiaeo\"), 5)\n",
        "\n",
        "    def test_no_vowels(self):\n",
        "        self.assertEqual(count_vowels(\"qwrty\"), 0)\n",
        "\n",
        "    def test_mixed_case(self):\n",
        "        self.assertEqual(count_vowels(\"I lOve PYThon!\"), 4)\n",
        "\n",
        "# Костыль для jupyter\n",
        "if __name__ == \"__main__\":\n",
        "    unittest.main(argv=[''], exit=False)"
      ]
    },
    {
      "cell_type": "markdown",
      "metadata": {
        "id": "t2ClV_Y0bbr6"
      },
      "source": [
        "# Задача 2\n",
        "Написать функцию на вход, которой подается строка. Функция должна вернуть true, если\n",
        "каждый символ в строке встречается только 1 раз, иначе должна вернуть false. Написать тесты для кода"
      ]
    },
    {
      "cell_type": "code",
      "execution_count": 196,
      "metadata": {
        "id": "FppbECao6VIz"
      },
      "outputs": [
        {
          "name": "stderr",
          "output_type": "stream",
          "text": [
            "...........................\n",
            "----------------------------------------------------------------------\n",
            "Ran 27 tests in 0.014s\n",
            "\n",
            "OK\n"
          ]
        }
      ],
      "source": [
        "def is_unique(string):\n",
        "    return len(string) == len(set(string))\n",
        "\n",
        "class TestIsUnique(unittest.TestCase):\n",
        "    def test_empty_string(self):\n",
        "        self.assertTrue(is_unique(\"\"))\n",
        "\n",
        "    def test_unique_string(self):\n",
        "        self.assertTrue(is_unique(\"abcde\"))\n",
        "\n",
        "    def test_not_unique_string(self):\n",
        "        self.assertFalse(is_unique(\"abcdee\"))\n",
        "\n",
        "# Костыль для jupyter\n",
        "if __name__ == \"__main__\":\n",
        "    unittest.main(argv=[''], exit=False)"
      ]
    },
    {
      "cell_type": "markdown",
      "metadata": {
        "id": "udRiIK1cdt6E"
      },
      "source": [
        "# Задача 3\n",
        "Написать функцию, которая принимает положительное число и возвращает количество\n",
        "бит равных 1 в этом числе. Написать тесты для кода"
      ]
    },
    {
      "cell_type": "code",
      "execution_count": 197,
      "metadata": {
        "id": "6tkfDJRz6dp_"
      },
      "outputs": [
        {
          "name": "stderr",
          "output_type": "stream",
          "text": [
            "...........................\n",
            "----------------------------------------------------------------------\n",
            "Ran 27 tests in 0.018s\n",
            "\n",
            "OK\n"
          ]
        }
      ],
      "source": [
        "def count(number):\n",
        "    return bin(number).count('1')\n",
        "\n",
        "class TestCount(unittest.TestCase):\n",
        "    def test_zero(self):\n",
        "        self.assertEqual(count(0), 0)\n",
        "\n",
        "    def test_one(self):\n",
        "        self.assertEqual(count(1), 1)\n",
        "\n",
        "    def test_large(self):\n",
        "        self.assertEqual(count(255), 8)\n",
        "\n",
        "# Костыль для jupyter\n",
        "if __name__ == \"__main__\":\n",
        "    unittest.main(argv=[''], exit=False)"
      ]
    },
    {
      "cell_type": "markdown",
      "metadata": {
        "id": "26dDUz-Ae17N"
      },
      "source": [
        "# Задача 4\n",
        "Написать функцию, которая принимает положительное число. Функция должна вернуть то,\n",
        "сколько раз необходимо перемножать цифры числа или результат перемножения, чтобы\n",
        "получилось число состоящее из одной цифры.\n",
        "Например, для входного числа:\n",
        "· 39 функция должна вернуть 3, так как 3*9=27 => 2*7=14 => 1*4=4\n",
        "· 4 функция должна вернуть 0, так как число уже состоит из одной цифры\n",
        "· 999 функция должна вернуть 4, так как 9*9*9=729 => 7*2*9=126 => 1*2*6=12 =>\n",
        "1*2=2. Написать тесты для кода"
      ]
    },
    {
      "cell_type": "code",
      "execution_count": 198,
      "metadata": {
        "id": "BH1A_Mgi6i4G"
      },
      "outputs": [
        {
          "name": "stderr",
          "output_type": "stream",
          "text": [
            "...........................\n",
            "----------------------------------------------------------------------\n",
            "Ran 27 tests in 0.015s\n",
            "\n",
            "OK\n"
          ]
        }
      ],
      "source": [
        "def magic(n):\n",
        "    if n < 10:\n",
        "        return 0\n",
        "    \n",
        "    steps = 0\n",
        "    while n >= 10:\n",
        "        result = 1\n",
        "        for digit in str(n):\n",
        "            result *= int(digit)\n",
        "        n = result\n",
        "        steps += 1\n",
        "\n",
        "    return steps\n",
        "\n",
        "class TestMagic(unittest.TestCase):\n",
        "    def test_single_digit(self):\n",
        "        self.assertEqual(magic(5), 0)\n",
        "        self.assertEqual(magic(9), 0)\n",
        "\n",
        "    def test_double_digit(self):\n",
        "        self.assertEqual(magic(39), 3)\n",
        "        self.assertEqual(magic(11), 1)\n",
        "\n",
        "    def test_triple_digit(self):\n",
        "        self.assertEqual(magic(999), 4)\n",
        "        self.assertEqual(magic(729), 3)\n",
        "\n",
        "# Костыль для jupyter\n",
        "if __name__ == \"__main__\":\n",
        "    unittest.main(argv=[''], exit=False)"
      ]
    },
    {
      "cell_type": "markdown",
      "metadata": {
        "id": "0nS-kIa8g8vd"
      },
      "source": [
        "# Задача 5\n",
        "Написать функцию, которая принимает два целочисленных вектора одинаковой длины и\n",
        "возвращает среднеквадратическое отклонение двух векторов. Написать тесты для кода"
      ]
    },
    {
      "cell_type": "code",
      "execution_count": 199,
      "metadata": {
        "id": "8iphx4LM6xbx"
      },
      "outputs": [
        {
          "name": "stderr",
          "output_type": "stream",
          "text": [
            "...........................\n",
            "----------------------------------------------------------------------\n",
            "Ran 27 tests in 0.021s\n",
            "\n",
            "OK\n"
          ]
        }
      ],
      "source": [
        "def mse(pred, true):\n",
        "    if not pred:\n",
        "        return 0\n",
        "    \n",
        "    diff = sum((v1 - v2) ** 2 for v1, v2 in zip(pred, true))\n",
        "    return diff / len(pred)\n",
        "\n",
        "class TestMeanSquareError(unittest.TestCase):\n",
        "    def test_identical_vectors(self):\n",
        "        self.assertEqual(mse([1, 2, 3], [1, 2, 3]), 0)\n",
        "\n",
        "    def test_different_vectors(self):\n",
        "        self.assertAlmostEqual(mse([1, 2, 3], [4, 5, 6]), 9)\n",
        "\n",
        "    def test_single_element_vectors(self):\n",
        "        self.assertEqual(mse([1], [2]), 1)\n",
        "\n",
        "\n",
        "# Костыль для jupyter\n",
        "if __name__ == \"__main__\":\n",
        "    unittest.main(argv=[''], exit=False)"
      ]
    },
    {
      "cell_type": "markdown",
      "metadata": {
        "id": "vpIPKL439zkw"
      },
      "source": [
        "# Задача 6\n",
        "Написать функцию, принимающая целое положительное число. Функция должна вернуть\n",
        "строку вида “(n1**p1)(n2**p2)…(nk**pk)” представляющая разложение числа на простые\n",
        "множители (если pi == 1, то выводить только ni).\n",
        "Например, для числа 86240 функция должна вернуть “(2**5)(5)(7**2)(11)”. Написать тесты для кода"
      ]
    },
    {
      "cell_type": "code",
      "execution_count": 200,
      "metadata": {
        "id": "pFebmcZk94Jw"
      },
      "outputs": [
        {
          "name": "stderr",
          "output_type": "stream",
          "text": [
            "...........................\n",
            "----------------------------------------------------------------------\n",
            "Ran 27 tests in 0.019s\n",
            "\n",
            "OK\n"
          ]
        }
      ],
      "source": [
        "def prime_factors(n):\n",
        "    factors = []\n",
        "    divisor = 2\n",
        "    while divisor * divisor <= n:\n",
        "        while n % divisor == 0:\n",
        "            factors.append(divisor)\n",
        "            n //= divisor\n",
        "        divisor += 1\n",
        "    if n > 1:\n",
        "        factors.append(n)\n",
        "    \n",
        "    result = \"\"\n",
        "    prev_factor = 0\n",
        "    count = 0\n",
        "    \n",
        "    for factor in factors + [0]:\n",
        "        if factor != prev_factor:\n",
        "            if prev_factor:\n",
        "                result += f\"({prev_factor}{'**' + str(count) if count > 1 else ''})\"\n",
        "            prev_factor = factor\n",
        "            count = 1\n",
        "        else:\n",
        "            count += 1\n",
        "    \n",
        "    return result\n",
        "\n",
        "class TestPrimeFactors(unittest.TestCase):\n",
        "    def test_small_numbers(self):\n",
        "        self.assertEqual(prime_factors(2), \"(2)\")\n",
        "        self.assertEqual(prime_factors(3), \"(3)\")\n",
        "\n",
        "    def test_composite_numbers(self):\n",
        "        self.assertEqual(prime_factors(86240), \"(2**5)(5)(7**2)(11)\")\n",
        "\n",
        "    def test_prime_numbers(self):\n",
        "        self.assertEqual(prime_factors(17), \"(17)\")\n",
        "\n",
        "    def test_powers(self):\n",
        "        self.assertEqual(prime_factors(128), \"(2**7)\")\n",
        "\n",
        "# Костыль для jupyter\n",
        "if __name__ == \"__main__\":\n",
        "    unittest.main(argv=[''], exit=False)"
      ]
    },
    {
      "cell_type": "markdown",
      "metadata": {
        "id": "ps2s0BudX7A2"
      },
      "source": [
        "# Задача 7\n",
        "Написать функцию, принимающая целое число n, задающее количество кубиков. Функция\n",
        "должна определить, можно ли из данного кол-ва кубиков построить пирамиду, то есть\n",
        "можно ли представить число n как 1^2+2^2+3^2+…+k^2. Если можно, то функция должна\n",
        "вернуть k, иначе строку “It is impossible”. Написать тесты для кода"
      ]
    },
    {
      "cell_type": "code",
      "execution_count": 201,
      "metadata": {
        "id": "3YPjEXxhX_YT"
      },
      "outputs": [
        {
          "name": "stderr",
          "output_type": "stream",
          "text": [
            "...........................\n",
            "----------------------------------------------------------------------\n",
            "Ran 27 tests in 0.018s\n",
            "\n",
            "OK\n"
          ]
        }
      ],
      "source": [
        "def pyramid(number):\n",
        "    k = 1\n",
        "    total = 0\n",
        "    while total < number:\n",
        "        total += k ** 2\n",
        "        if total == number:\n",
        "            return k\n",
        "        k += 1\n",
        "    return \"It is impossible\"\n",
        "\n",
        "class TestPyramid(unittest.TestCase):\n",
        "    def test_possible_pyramids(self):\n",
        "        self.assertEqual(pyramid(1), 1)\n",
        "        self.assertEqual(pyramid(5), 2)\n",
        "        self.assertEqual(pyramid(14), 3)\n",
        "\n",
        "    def test_impossible_pyramids(self):\n",
        "        self.assertEqual(pyramid(2), \"It is impossible\")\n",
        "        self.assertEqual(pyramid(7), \"It is impossible\")\n",
        "        self.assertEqual(pyramid(0), \"It is impossible\")\n",
        "        self.assertEqual(pyramid(-1), \"It is impossible\")\n",
        "\n",
        "if __name__ == '__main__':\n",
        "    unittest.main(argv=[''], exit=False)"
      ]
    },
    {
      "cell_type": "markdown",
      "metadata": {
        "id": "KeKgmIdAQMEJ"
      },
      "source": [
        "# Задача 8\n",
        "Функция принимает на вход положительное число и определяет является ли оно сбалансированным, т.е. сумма цифр до средних равна сумме цифр после. Средними в случае нечетного числа цифр считать одну цифру, в случае четного - две средних. Написать тесты для кода"
      ]
    },
    {
      "cell_type": "code",
      "execution_count": 202,
      "metadata": {
        "id": "gMAAqtqlQrZt"
      },
      "outputs": [
        {
          "name": "stderr",
          "output_type": "stream",
          "text": [
            "...........................\n",
            "----------------------------------------------------------------------\n",
            "Ran 27 tests in 0.019s\n",
            "\n",
            "OK\n"
          ]
        }
      ],
      "source": [
        "def is_balanced(number):\n",
        "    digits = str(number)\n",
        "    length = len(digits)\n",
        "    mid = length // 2\n",
        "\n",
        "    if length % 2 == 0:\n",
        "        left_sum = sum(int(d) for d in digits[:mid])\n",
        "        right_sum = sum(int(d) for d in digits[mid:])\n",
        "    else:\n",
        "        left_sum = sum(int(d) for d in digits[:mid])\n",
        "        right_sum = sum(int(d) for d in digits[mid+1:])\n",
        "\n",
        "    return left_sum == right_sum\n",
        "\n",
        "class TestIsBalanced(unittest.TestCase):\n",
        "    def test_balanced_even_length(self):\n",
        "        self.assertTrue(is_balanced(1221))\n",
        "\n",
        "    def test_balanced_odd_length(self):\n",
        "        self.assertTrue(is_balanced(12321))\n",
        "\n",
        "    def test_unbalanced_even_length(self):\n",
        "        self.assertFalse(is_balanced(1234))\n",
        "\n",
        "    def test_unbalanced_odd_length(self):\n",
        "        self.assertFalse(is_balanced(12345))\n",
        "\n",
        "    def test_single_digit(self):\n",
        "        self.assertTrue(is_balanced(5))\n",
        "\n",
        "if __name__ == '__main__':\n",
        "    unittest.main(argv=[''], exit=False)"
      ]
    }
  ],
  "metadata": {
    "colab": {
      "provenance": []
    },
    "kernelspec": {
      "display_name": "Python 3",
      "name": "python3"
    },
    "language_info": {
      "codemirror_mode": {
        "name": "ipython",
        "version": 3
      },
      "file_extension": ".py",
      "mimetype": "text/x-python",
      "name": "python",
      "nbconvert_exporter": "python",
      "pygments_lexer": "ipython3",
      "version": "3.10.12"
    }
  },
  "nbformat": 4,
  "nbformat_minor": 0
}
